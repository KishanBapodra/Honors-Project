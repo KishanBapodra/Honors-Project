{
 "cells": [
  {
   "cell_type": "code",
   "execution_count": null,
   "metadata": {},
   "outputs": [],
   "source": [
    "import os\n",
    "import numpy as np\n",
    "from skimage.metrics import structural_similarity as ssim\n",
    "from skimage.io import imread_collection\n",
    "import matplotlib\n",
    "from skimage.transform import resize\n"
   ]
  },
  {
   "cell_type": "code",
   "execution_count": null,
   "metadata": {},
   "outputs": [],
   "source": [
    "# DCGAN SSIM\n",
    "\n",
    "# Define the paths to the original dataset and the generator output\n",
    "orig_path = './dataset_1/'\n",
    "gen_path = './GAN_generated_images/test/'\n",
    "\n",
    "# Load the images from the two directories\n",
    "orig_images = imread_collection(os.path.join(orig_path, '*.png'), plugin='matplotlib')\n",
    "gen_images = imread_collection(os.path.join(gen_path, '*.png'), plugin='matplotlib')\n",
    "\n",
    "gen_images_resized = [resize(img, (512, 512)) for img in gen_images]\n",
    "\n",
    "for i, img in enumerate(orig_images):\n",
    "    print(f'Original image {i}: shape={img.shape}, type={img.dtype}')\n",
    "for i, img in enumerate(gen_images_resized):\n",
    "    print(f'Generated image {i}: shape={img.shape}, type={img.dtype}')\n",
    "\n",
    "# Convert the images to grayscale and normalize to [0, 1]\n",
    "orig_images = [img/255.0 for img in orig_images]\n",
    "gen_images = [img/255.0 for img in gen_images_resized]\n",
    "\n",
    "# Calculate the SSIM score between the two sets of images\n",
    "ssim_score = np.mean([ssim(orig_images[i], gen_images[i], data_range=1.0) for i in range(1799)])\n",
    "print('SSIM score:', ssim_score)\n"
   ]
  },
  {
   "cell_type": "code",
   "execution_count": null,
   "metadata": {},
   "outputs": [],
   "source": [
    "# VAE SSIM\n",
    "\n",
    "# Define the paths to the original dataset and the decoder output\n",
    "orig_path = './dataset_resized/'\n",
    "gen_path = './VAE_generated_images/test1/'\n",
    "\n",
    "# Load the images from the two directories\n",
    "orig_images = imread_collection(os.path.join(orig_path, '*.png'), plugin='matplotlib')\n",
    "gen_images = imread_collection(os.path.join(gen_path, '*.png'), plugin='matplotlib')\n",
    "\n",
    "# Convert the original images to grayscale and normalize to [0, 1]\n",
    "orig_images = [np.mean(img, axis=-1)/255.0 if len(img.shape)==3 else img/255.0 for img in orig_images]\n",
    "gen_images = [img/255.0 for img in gen_images]\n",
    "\n",
    "# Calculate the SSIM score between the two sets of images\n",
    "ssim_score = np.mean([ssim(orig_images[i], gen_images[i], data_range=1.0) for i in range(1800)])\n",
    "print('SSIM score:', ssim_score)"
   ]
  }
 ],
 "metadata": {
  "kernelspec": {
   "display_name": "base",
   "language": "python",
   "name": "python3"
  },
  "language_info": {
   "codemirror_mode": {
    "name": "ipython",
    "version": 3
   },
   "file_extension": ".py",
   "mimetype": "text/x-python",
   "name": "python",
   "nbconvert_exporter": "python",
   "pygments_lexer": "ipython3",
   "version": "3.9.12"
  },
  "orig_nbformat": 4
 },
 "nbformat": 4,
 "nbformat_minor": 2
}
