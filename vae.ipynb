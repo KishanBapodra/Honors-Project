{
 "cells": [
  {
   "cell_type": "code",
   "execution_count": 141,
   "metadata": {},
   "outputs": [],
   "source": [
    "import numpy as np\n",
    "import tensorflow as tf\n",
    "from tensorflow import keras\n",
    "from tensorflow.keras import layers\n",
    "import matplotlib.pyplot as plt"
   ]
  },
  {
   "cell_type": "code",
   "execution_count": 142,
   "metadata": {},
   "outputs": [],
   "source": [
    "img_shape = 32\n",
    "batch_size = 64"
   ]
  },
  {
   "cell_type": "code",
   "execution_count": 143,
   "metadata": {},
   "outputs": [],
   "source": [
    "class Sampling(layers.Layer):\n",
    "\n",
    "    def call(self, inputs):\n",
    "        z_mean, z_log_var = inputs\n",
    "        batch = tf.shape(z_mean)[0]\n",
    "        dim = tf.shape(z_mean)[1]\n",
    "        epsilon = tf.keras.backend.random_normal(shape=(batch, dim))\n",
    "        return z_mean + tf.exp(0.5 * z_log_var) * epsilon\n"
   ]
  },
  {
   "cell_type": "code",
   "execution_count": 144,
   "metadata": {},
   "outputs": [],
   "source": [
    "latent_dim = 64"
   ]
  },
  {
   "cell_type": "code",
   "execution_count": 145,
   "metadata": {},
   "outputs": [
    {
     "name": "stdout",
     "output_type": "stream",
     "text": [
      "Model: \"encoder\"\n",
      "__________________________________________________________________________________________________\n",
      " Layer (type)                   Output Shape         Param #     Connected to                     \n",
      "==================================================================================================\n",
      " input_27 (InputLayer)          [(None, 32, 32, 1)]  0           []                               \n",
      "                                                                                                  \n",
      " conv2d_24 (Conv2D)             (None, 16, 16, 32)   320         ['input_27[0][0]']               \n",
      "                                                                                                  \n",
      " conv2d_25 (Conv2D)             (None, 8, 8, 64)     18496       ['conv2d_24[0][0]']              \n",
      "                                                                                                  \n",
      " flatten_12 (Flatten)           (None, 4096)         0           ['conv2d_25[0][0]']              \n",
      "                                                                                                  \n",
      " dense_26 (Dense)               (None, 16)           65552       ['flatten_12[0][0]']             \n",
      "                                                                                                  \n",
      " z_mean (Dense)                 (None, 64)           1088        ['dense_26[0][0]']               \n",
      "                                                                                                  \n",
      " z_log_var (Dense)              (None, 64)           1088        ['dense_26[0][0]']               \n",
      "                                                                                                  \n",
      " sampling_12 (Sampling)         (None, 64)           0           ['z_mean[0][0]',                 \n",
      "                                                                  'z_log_var[0][0]']              \n",
      "                                                                                                  \n",
      "==================================================================================================\n",
      "Total params: 86,544\n",
      "Trainable params: 86,544\n",
      "Non-trainable params: 0\n",
      "__________________________________________________________________________________________________\n"
     ]
    }
   ],
   "source": [
    "encoder_inputs = keras.Input(shape=(32, 32, 1))\n",
    "x = layers.Conv2D(32, 3, activation=\"relu\", strides=2, padding=\"same\")(encoder_inputs)\n",
    "x = layers.Conv2D(64, 3, activation=\"relu\", strides=2, padding=\"same\")(x)\n",
    "x = layers.Flatten()(x)\n",
    "x = layers.Dense(16, activation=\"relu\")(x)\n",
    "z_mean = layers.Dense(latent_dim, name=\"z_mean\")(x)\n",
    "z_log_var = layers.Dense(latent_dim, name=\"z_log_var\")(x)\n",
    "z = Sampling()([z_mean, z_log_var])\n",
    "encoder = keras.Model(encoder_inputs, [z_mean, z_log_var, z], name=\"encoder\")\n",
    "encoder.summary()"
   ]
  },
  {
   "cell_type": "code",
   "execution_count": 146,
   "metadata": {},
   "outputs": [
    {
     "name": "stdout",
     "output_type": "stream",
     "text": [
      "Model: \"decoder\"\n",
      "_________________________________________________________________\n",
      " Layer (type)                Output Shape              Param #   \n",
      "=================================================================\n",
      " input_28 (InputLayer)       [(None, 64)]              0         \n",
      "                                                                 \n",
      " dense_27 (Dense)            (None, 16)                1040      \n",
      "                                                                 \n",
      " reshape_14 (Reshape)        (None, 4, 4, 1)           0         \n",
      "                                                                 \n",
      " conv2d_transpose_56 (Conv2D  (None, 8, 8, 32)         320       \n",
      " Transpose)                                                      \n",
      "                                                                 \n",
      " conv2d_transpose_57 (Conv2D  (None, 16, 16, 64)       18496     \n",
      " Transpose)                                                      \n",
      "                                                                 \n",
      " conv2d_transpose_58 (Conv2D  (None, 32, 32, 128)      73856     \n",
      " Transpose)                                                      \n",
      "                                                                 \n",
      " conv2d_transpose_59 (Conv2D  (None, 32, 32, 1)        1153      \n",
      " Transpose)                                                      \n",
      "                                                                 \n",
      "=================================================================\n",
      "Total params: 94,865\n",
      "Trainable params: 94,865\n",
      "Non-trainable params: 0\n",
      "_________________________________________________________________\n"
     ]
    }
   ],
   "source": [
    "latent_inputs = keras.Input(shape=(latent_dim,))\n",
    "x = layers.Dense(16, activation=\"relu\")(latent_inputs)\n",
    "x = layers.Reshape((4, 4, 1))(x)\n",
    "x = layers.Conv2DTranspose(32, 3, activation=\"relu\", strides=2, padding=\"same\")(x)\n",
    "x = layers.Conv2DTranspose(64, 3, activation=\"relu\", strides=2, padding=\"same\")(x)\n",
    "x = layers.Conv2DTranspose(128, 3, activation=\"relu\", strides=2, padding=\"same\")(x)\n",
    "decoder_outputs = layers.Conv2DTranspose(1, 3, activation=\"sigmoid\", padding=\"same\")(x)\n",
    "decoder = keras.Model(latent_inputs, decoder_outputs, name=\"decoder\")\n",
    "decoder.summary()"
   ]
  },
  {
   "cell_type": "code",
   "execution_count": 147,
   "metadata": {},
   "outputs": [],
   "source": [
    "class VAE(keras.Model):\n",
    "    def __init__(self, encoder, decoder, **kwargs):\n",
    "        super().__init__(**kwargs)\n",
    "        self.encoder = encoder\n",
    "        self.decoder = decoder\n",
    "        self.total_loss_tracker = keras.metrics.Mean(name=\"total_loss\")\n",
    "        self.reconstruction_loss_tracker = keras.metrics.Mean(\n",
    "            name=\"reconstruction_loss\"\n",
    "        )\n",
    "        self.kl_loss_tracker = keras.metrics.Mean(name=\"kl_loss\")\n",
    "\n",
    "    @property\n",
    "    def metrics(self):\n",
    "        return [\n",
    "            self.total_loss_tracker,\n",
    "            self.reconstruction_loss_tracker,\n",
    "            self.kl_loss_tracker,\n",
    "        ]\n",
    "\n",
    "    def train_step(self, data):\n",
    "        with tf.GradientTape() as tape:\n",
    "            z_mean, z_log_var, z = self.encoder(data)\n",
    "            reconstruction = self.decoder(z)\n",
    "            reconstruction_loss = tf.reduce_mean(\n",
    "                tf.reduce_sum(\n",
    "                    keras.losses.binary_crossentropy(data, reconstruction), axis=(1, 2)\n",
    "                )\n",
    "            )\n",
    "            kl_loss = -0.5 * (1 + z_log_var - tf.square(z_mean) - tf.exp(z_log_var))\n",
    "            kl_loss = tf.reduce_mean(tf.reduce_sum(kl_loss, axis=1))\n",
    "            total_loss = reconstruction_loss + kl_loss\n",
    "        grads = tape.gradient(total_loss, self.trainable_weights)\n",
    "        self.optimizer.apply_gradients(zip(grads, self.trainable_weights))\n",
    "        self.total_loss_tracker.update_state(total_loss)\n",
    "        self.reconstruction_loss_tracker.update_state(reconstruction_loss)\n",
    "        self.kl_loss_tracker.update_state(kl_loss)\n",
    "        return {\n",
    "            \"loss\": self.total_loss_tracker.result(),\n",
    "            \"reconstruction_loss\": self.reconstruction_loss_tracker.result(),\n",
    "            \"kl_loss\": self.kl_loss_tracker.result(),\n",
    "        }\n"
   ]
  },
  {
   "cell_type": "code",
   "execution_count": 148,
   "metadata": {},
   "outputs": [],
   "source": [
    "# (x_train, _), (x_test, _) = keras.datasets.mnist.load_data()\n",
    "# mnist_digits = np.concatenate([x_train, x_test], axis=0)\n",
    "# mnist_digits = np.expand_dims(mnist_digits, -1).astype(\"float32\") / 255\n",
    "\n",
    "# vae = VAE(encoder, decoder)\n",
    "# vae.compile(optimizer=keras.optimizers.Adam())\n",
    "# vae.fit(mnist_digits, epochs=200, batch_size=32)\n"
   ]
  },
  {
   "cell_type": "code",
   "execution_count": 149,
   "metadata": {},
   "outputs": [],
   "source": [
    "def load_and_preprocess_image(path):\n",
    "    image = tf.io.read_file(path)\n",
    "    image = tf.image.decode_png(image, channels=1, dtype=tf.uint8)\n",
    "    image = tf.image.resize(image, [img_shape, img_shape])\n",
    "    image = tf.cast(image, tf.float32)  # Convert the data type to float32\n",
    "    image = image/255.0  # Normalize the images to [-1, 1]\n",
    "    return image\n",
    "\n",
    "list_ds = tf.data.Dataset.list_files('dataset/*.png')\n",
    "dataset = list_ds.map(load_and_preprocess_image, num_parallel_calls=tf.data.AUTOTUNE)\n",
    "dataset = dataset.batch(batch_size)\n",
    "dataset = dataset.prefetch(tf.data.AUTOTUNE)\n"
   ]
  },
  {
   "cell_type": "code",
   "execution_count": 150,
   "metadata": {},
   "outputs": [
    {
     "name": "stdout",
     "output_type": "stream",
     "text": [
      "Epoch 1/50\n",
      "79/79 [==============================] - 7s 79ms/step - loss: 333.1769 - reconstruction_loss: 291.6717 - kl_loss: 0.0820\n",
      "Epoch 2/50\n",
      "79/79 [==============================] - 5s 58ms/step - loss: 275.6950 - reconstruction_loss: 274.6602 - kl_loss: 0.0050\n",
      "Epoch 3/50\n",
      "79/79 [==============================] - 5s 59ms/step - loss: 274.4748 - reconstruction_loss: 275.2353 - kl_loss: 3.9524e-04\n",
      "Epoch 4/50\n",
      "79/79 [==============================] - 5s 59ms/step - loss: 271.4402 - reconstruction_loss: 277.4440 - kl_loss: 8.5618e-05\n",
      "Epoch 5/50\n",
      "79/79 [==============================] - 5s 60ms/step - loss: 271.7606 - reconstruction_loss: 274.2249 - kl_loss: 8.5493e-05\n",
      "Epoch 6/50\n",
      "79/79 [==============================] - 5s 59ms/step - loss: 270.7309 - reconstruction_loss: 275.2268 - kl_loss: 3.8137e-05\n",
      "Epoch 7/50\n",
      "79/79 [==============================] - 5s 60ms/step - loss: 274.0872 - reconstruction_loss: 273.6979 - kl_loss: 5.2506e-05\n",
      "Epoch 8/50\n",
      "79/79 [==============================] - 5s 60ms/step - loss: 275.3739 - reconstruction_loss: 275.9010 - kl_loss: 2.8193e-05\n",
      "Epoch 9/50\n",
      "79/79 [==============================] - 5s 63ms/step - loss: 275.8255 - reconstruction_loss: 274.1821 - kl_loss: 3.7525e-05\n",
      "Epoch 10/50\n",
      "79/79 [==============================] - 5s 69ms/step - loss: 274.3054 - reconstruction_loss: 273.7846 - kl_loss: 2.9083e-05\n",
      "Epoch 11/50\n",
      "79/79 [==============================] - 6s 73ms/step - loss: 275.2572 - reconstruction_loss: 274.8389 - kl_loss: 2.5971e-05\n",
      "Epoch 12/50\n",
      "79/79 [==============================] - 6s 75ms/step - loss: 277.7648 - reconstruction_loss: 274.4295 - kl_loss: 6.0003e-05\n"
     ]
    }
   ],
   "source": [
    "vae = VAE(encoder, decoder)\n",
    "vae.compile(optimizer=keras.optimizers.Adam(learning_rate=0.01))\n",
    "vae.fit(dataset, epochs=50, batch_size=batch_size)\n"
   ]
  },
  {
   "cell_type": "code",
   "execution_count": null,
   "metadata": {},
   "outputs": [],
   "source": [
    "latent_size = 64\n",
    "num_samples = 10\n",
    "latent_samples = np.random.normal(size=(num_samples, latent_size))\n",
    "\n",
    "# Use the decoder to generate images from the latent space samples\n",
    "generated_images = vae.decoder.predict(latent_samples)\n",
    "\n",
    "# Visualize the generated images\n",
    "for i in range(num_samples):\n",
    "    plt.subplot(2, 5, i+1)\n",
    "    plt.imshow(generated_images[i], cmap=\"gray\")\n",
    "    plt.axis(\"off\")\n",
    "plt.show()"
   ]
  }
 ],
 "metadata": {
  "kernelspec": {
   "display_name": "base",
   "language": "python",
   "name": "python3"
  },
  "language_info": {
   "codemirror_mode": {
    "name": "ipython",
    "version": 3
   },
   "file_extension": ".py",
   "mimetype": "text/x-python",
   "name": "python",
   "nbconvert_exporter": "python",
   "pygments_lexer": "ipython3",
   "version": "3.9.12"
  },
  "orig_nbformat": 4
 },
 "nbformat": 4,
 "nbformat_minor": 2
}
