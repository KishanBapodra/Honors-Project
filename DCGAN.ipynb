{
 "cells": [
  {
   "cell_type": "code",
   "execution_count": 1,
   "metadata": {},
   "outputs": [
    {
     "name": "stderr",
     "output_type": "stream",
     "text": [
      "2023-04-24 16:07:37.861128: I tensorflow/core/platform/cpu_feature_guard.cc:193] This TensorFlow binary is optimized with oneAPI Deep Neural Network Library (oneDNN) to use the following CPU instructions in performance-critical operations:  AVX2 FMA\n",
      "To enable them in other operations, rebuild TensorFlow with the appropriate compiler flags.\n",
      "2023-04-24 16:07:38.023485: E tensorflow/stream_executor/cuda/cuda_blas.cc:2981] Unable to register cuBLAS factory: Attempting to register factory for plugin cuBLAS when one has already been registered\n",
      "2023-04-24 16:07:38.794921: W tensorflow/stream_executor/platform/default/dso_loader.cc:64] Could not load dynamic library 'libnvinfer.so.7'; dlerror: libnvinfer.so.7: cannot open shared object file: No such file or directory; LD_LIBRARY_PATH: :/home/deadpool/anaconda3/lib/:/home/deadpool/anaconda3/lib/:/home/deadpool/anaconda3/lib/\n",
      "2023-04-24 16:07:38.795016: W tensorflow/stream_executor/platform/default/dso_loader.cc:64] Could not load dynamic library 'libnvinfer_plugin.so.7'; dlerror: libnvinfer_plugin.so.7: cannot open shared object file: No such file or directory; LD_LIBRARY_PATH: :/home/deadpool/anaconda3/lib/:/home/deadpool/anaconda3/lib/:/home/deadpool/anaconda3/lib/\n",
      "2023-04-24 16:07:38.795023: W tensorflow/compiler/tf2tensorrt/utils/py_utils.cc:38] TF-TRT Warning: Cannot dlopen some TensorRT libraries. If you would like to use Nvidia GPU with TensorRT, please make sure the missing libraries mentioned above are installed properly.\n"
     ]
    }
   ],
   "source": [
    "import tensorflow as tf\n",
    "from tensorflow import keras\n",
    "import numpy as np\n",
    "import os\n",
    "import matplotlib.pyplot as plt"
   ]
  },
  {
   "cell_type": "code",
   "execution_count": null,
   "metadata": {},
   "outputs": [],
   "source": [
    "# Set random seed for reproducibility\n",
    "tf.random.set_seed(42)\n",
    "np.random.seed(42)\n",
    "\n",
    "# Define image parameters\n",
    "img_size = 64\n",
    "img_shape = (img_size, img_size, 1)\n",
    "batch_size = 64"
   ]
  },
  {
   "attachments": {},
   "cell_type": "markdown",
   "metadata": {},
   "source": [
    "## Generator"
   ]
  },
  {
   "cell_type": "code",
   "execution_count": null,
   "metadata": {},
   "outputs": [],
   "source": [
    "# # 64x64 \n",
    "def generator_model():\n",
    "    model = tf.keras.Sequential([\n",
    "        tf.keras.layers.Dense(8*8*128, input_shape=(128,), use_bias=False),\n",
    "        tf.keras.layers.BatchNormalization(),\n",
    "        tf.keras.layers.LeakyReLU(),\n",
    "        tf.keras.layers.Reshape((8, 8, 128)),\n",
    "        tf.keras.layers.Conv2DTranspose(128, (5,5), strides=(2,2), padding='same', use_bias=False),\n",
    "        tf.keras.layers.BatchNormalization(),\n",
    "        tf.keras.layers.LeakyReLU(),\n",
    "        tf.keras.layers.Conv2DTranspose(64, (5,5), strides=(2,2), padding='same', use_bias=False),\n",
    "        tf.keras.layers.BatchNormalization(),\n",
    "        tf.keras.layers.LeakyReLU(),\n",
    "        tf.keras.layers.Conv2DTranspose(1, (5,5), strides=(2,2), padding='same', use_bias=False, activation='tanh')\n",
    "    ])\n",
    "    return model\n",
    "generator = generator_model()\n",
    "generator.summary()"
   ]
  },
  {
   "cell_type": "code",
   "execution_count": null,
   "metadata": {},
   "outputs": [],
   "source": [
    "# def generator_model():\n",
    "#     model = tf.keras.Sequential([\n",
    "#         tf.keras.layers.Dense(16 * 16 * 64, input_shape=(128,), use_bias=False),\n",
    "#         tf.keras.layers.BatchNormalization(),\n",
    "#         tf.keras.layers.LeakyReLU(),\n",
    "#         tf.keras.layers.Reshape((16, 16, 64)),\n",
    "#         tf.keras.layers.Conv2DTranspose(512, (4,4), strides=(2,2), padding='same', use_bias=False),\n",
    "#         tf.keras.layers.BatchNormalization(),\n",
    "#         tf.keras.layers.LeakyReLU(),\n",
    "#         tf.keras.layers.Conv2DTranspose(256, (4,4), strides=(2,2), padding='same', use_bias=False),\n",
    "#         tf.keras.layers.BatchNormalization(),\n",
    "#         tf.keras.layers.LeakyReLU(),\n",
    "#         tf.keras.layers.Conv2DTranspose(128, (4,4), strides=(2,2), padding='same', use_bias=False),\n",
    "#         tf.keras.layers.BatchNormalization(),\n",
    "#         tf.keras.layers.LeakyReLU(),\n",
    "#         tf.keras.layers.Conv2DTranspose(64, (4,4), strides=(1,1), padding='same', use_bias=False),\n",
    "#         tf.keras.layers.BatchNormalization(),\n",
    "#         tf.keras.layers.LeakyReLU(),\n",
    "#         tf.keras.layers.Conv2DTranspose(1, (4,4), strides=(2,2), padding='same', use_bias=False, activation='tanh')\n",
    "#     ])\n",
    "#     return model\n"
   ]
  },
  {
   "attachments": {},
   "cell_type": "markdown",
   "metadata": {},
   "source": [
    "## Discriminator"
   ]
  },
  {
   "cell_type": "code",
   "execution_count": null,
   "metadata": {},
   "outputs": [],
   "source": [
    "## 64x64\n",
    "def discriminator_model():\n",
    "    model = tf.keras.Sequential([\n",
    "        tf.keras.layers.Conv2D(64, (5,5), strides=(2,2), padding='same', input_shape=img_shape),\n",
    "        tf.keras.layers.LeakyReLU(),\n",
    "        tf.keras.layers.Dropout(0.3),\n",
    "        tf.keras.layers.Conv2D(128, (5,5), strides=(2,2), padding='same'),\n",
    "        tf.keras.layers.LeakyReLU(),\n",
    "        tf.keras.layers.Dropout(0.3),\n",
    "        tf.keras.layers.Flatten(),\n",
    "        tf.keras.layers.Dense(1, activation='sigmoid')\n",
    "    ])\n",
    "    return model"
   ]
  },
  {
   "cell_type": "code",
   "execution_count": null,
   "metadata": {},
   "outputs": [],
   "source": [
    "generator = generator_model()\n",
    "generator.summary()"
   ]
  },
  {
   "cell_type": "code",
   "execution_count": null,
   "metadata": {},
   "outputs": [],
   "source": [
    "discriminator = discriminator_model()\n",
    "discriminator.summary()"
   ]
  },
  {
   "attachments": {},
   "cell_type": "markdown",
   "metadata": {},
   "source": [
    "## Loss Functions"
   ]
  },
  {
   "cell_type": "code",
   "execution_count": null,
   "metadata": {},
   "outputs": [],
   "source": [
    "cross_entropy = tf.keras.losses.BinaryCrossentropy(from_logits=False)\n",
    "generator_optimizer = tf.keras.optimizers.Adam(1e-4)\n",
    "discriminator_optimizer = tf.keras.optimizers.Adam(4e-4)"
   ]
  },
  {
   "attachments": {},
   "cell_type": "markdown",
   "metadata": {},
   "source": [
    "### Checkout points to check progress"
   ]
  },
  {
   "cell_type": "code",
   "execution_count": null,
   "metadata": {},
   "outputs": [],
   "source": [
    "checkpoint_dir = './training_checkpoints'\n",
    "checkpoint_prefix = os.path.join(checkpoint_dir, \"ckpt\")\n",
    "checkpoint = tf.train.Checkpoint(generator_optimizer=generator_optimizer,\n",
    "                                 discriminator_optimizer=discriminator_optimizer,\n",
    "                                 generator=generator,\n",
    "                                 discriminator=discriminator)"
   ]
  },
  {
   "attachments": {},
   "cell_type": "markdown",
   "metadata": {},
   "source": [
    "### Function to generate and save images"
   ]
  },
  {
   "cell_type": "code",
   "execution_count": null,
   "metadata": {},
   "outputs": [],
   "source": [
    "def generate_and_save_images(model, epoch, test_input):\n",
    "    predictions = model(test_input, training=False)\n",
    "    fig = plt.figure(figsize=(8, 8))\n",
    "    for i in range(predictions.shape[0]):\n",
    "        plt.subplot(8, 8, i+1)\n",
    "        plt.imshow(predictions[i, :, :, 0] * 127.5 + 127.5, cmap='gray')\n",
    "        plt.axis('off')\n",
    "    plt.show()"
   ]
  },
  {
   "cell_type": "code",
   "execution_count": null,
   "metadata": {},
   "outputs": [],
   "source": [
    "@tf.function\n",
    "def train_step(images):\n",
    "    noise = tf.random.normal([batch_size, 128])\n",
    "    with tf.GradientTape() as gen_tape, tf.GradientTape() as disc_tape:\n",
    "        generated_images = generator(noise, training=True)\n",
    "        real_output = discriminator(images, training=True)\n",
    "        fake_output = discriminator(generated_images, training=True)\n",
    "\n",
    "        gen_loss = cross_entropy(tf.ones_like(fake_output), fake_output)\n",
    "        disc_loss_real = cross_entropy(tf.ones_like(real_output), real_output)\n",
    "        disc_loss_fake = cross_entropy(tf.zeros_like(fake_output), fake_output)\n",
    "        disc_loss = disc_loss_real + disc_loss_fake\n",
    "\n",
    "    gradients_of_generator = gen_tape.gradient(gen_loss, generator.trainable_variables)\n",
    "    gradients_of_discriminator = disc_tape.gradient(disc_loss, discriminator.trainable_variables)\n",
    "\n",
    "    generator_optimizer.apply_gradients(zip(gradients_of_generator, generator.trainable_variables))\n",
    "    discriminator_optimizer.apply_gradients(zip(gradients_of_discriminator, discriminator.trainable_variables))"
   ]
  },
  {
   "attachments": {},
   "cell_type": "markdown",
   "metadata": {},
   "source": [
    "### Load and preprocess data"
   ]
  },
  {
   "cell_type": "code",
   "execution_count": null,
   "metadata": {},
   "outputs": [],
   "source": [
    "# Load and preprocess the data\n",
    "def load_and_preprocess_image(path):\n",
    "    image = tf.io.read_file(path)\n",
    "    image = tf.image.decode_png(image, channels=1, dtype=tf.uint8)\n",
    "    image = tf.image.resize(image, [img_size, img_size])\n",
    "    image = tf.cast(image, tf.float32)  # Convert the data type to float32\n",
    "    image = (image - 127.5) / 127.5  # Normalize the images to [-1, 1]\n",
    "    return image\n",
    "\n",
    "list_ds = tf.data.Dataset.list_files('dataset_1/*.png')\n",
    "dataset = list_ds.map(load_and_preprocess_image, num_parallel_calls=tf.data.AUTOTUNE)\n",
    "dataset = dataset.batch(batch_size)"
   ]
  },
  {
   "attachments": {},
   "cell_type": "markdown",
   "metadata": {},
   "source": [
    "## Train Model"
   ]
  },
  {
   "cell_type": "code",
   "execution_count": null,
   "metadata": {},
   "outputs": [],
   "source": [
    "def train(dataset, epochs):\n",
    "    for epoch in range(epochs):\n",
    "        for batch in dataset:\n",
    "            train_step(batch)\n",
    "\n",
    "        # Save the model every 60 epochs\n",
    "        if (epoch + 1) % 10 == 0:\n",
    "            test_input = tf.random.normal([64, 128])\n",
    "            generate_and_save_images(generator, epoch+1, test_input)\n",
    "            checkpoint.save(file_prefix=checkpoint_prefix)\n",
    "\n",
    "        print('Epoch {} complete'.format(epoch+1))\n",
    "\n",
    "# Train the models\n",
    "train(dataset, epochs=600)\n"
   ]
  },
  {
   "cell_type": "code",
   "execution_count": null,
   "metadata": {},
   "outputs": [],
   "source": [
    "# def on_epoch_end():\n",
    "#     random_latent_vectors = tf.random.normal(shape=(5, 128))\n",
    "#     generated_images = generator(random_latent_vectors)\n",
    "#     generated_images *= 255\n",
    "#     generated_images.numpy()\n",
    "#     for i in range(5):\n",
    "#         img = keras.preprocessing.image.array_to_img(generated_images[i])\n",
    "#         img.save('/home/deadpool/Honors-Project/Honors-Project/GAN_generated_images/final_images/64x64_generated_d1_%d_900e.png' % i)\n",
    "\n",
    "# on_epoch_end()"
   ]
  },
  {
   "cell_type": "code",
   "execution_count": null,
   "metadata": {},
   "outputs": [],
   "source": [
    "generator.compile()\n",
    "generator.save('generator256x256_d1_1000.h5')"
   ]
  },
  {
   "cell_type": "code",
   "execution_count": 2,
   "metadata": {},
   "outputs": [
    {
     "name": "stderr",
     "output_type": "stream",
     "text": [
      "2023-04-24 16:07:42.663701: I tensorflow/stream_executor/cuda/cuda_gpu_executor.cc:980] successful NUMA node read from SysFS had negative value (-1), but there must be at least one NUMA node, so returning NUMA node zero\n",
      "2023-04-24 16:07:42.670392: I tensorflow/stream_executor/cuda/cuda_gpu_executor.cc:980] successful NUMA node read from SysFS had negative value (-1), but there must be at least one NUMA node, so returning NUMA node zero\n",
      "2023-04-24 16:07:42.670733: I tensorflow/stream_executor/cuda/cuda_gpu_executor.cc:980] successful NUMA node read from SysFS had negative value (-1), but there must be at least one NUMA node, so returning NUMA node zero\n",
      "2023-04-24 16:07:42.671361: I tensorflow/core/platform/cpu_feature_guard.cc:193] This TensorFlow binary is optimized with oneAPI Deep Neural Network Library (oneDNN) to use the following CPU instructions in performance-critical operations:  AVX2 FMA\n",
      "To enable them in other operations, rebuild TensorFlow with the appropriate compiler flags.\n",
      "2023-04-24 16:07:42.671845: I tensorflow/stream_executor/cuda/cuda_gpu_executor.cc:980] successful NUMA node read from SysFS had negative value (-1), but there must be at least one NUMA node, so returning NUMA node zero\n",
      "2023-04-24 16:07:42.672147: I tensorflow/stream_executor/cuda/cuda_gpu_executor.cc:980] successful NUMA node read from SysFS had negative value (-1), but there must be at least one NUMA node, so returning NUMA node zero\n",
      "2023-04-24 16:07:42.672424: I tensorflow/stream_executor/cuda/cuda_gpu_executor.cc:980] successful NUMA node read from SysFS had negative value (-1), but there must be at least one NUMA node, so returning NUMA node zero\n",
      "2023-04-24 16:07:43.172856: I tensorflow/stream_executor/cuda/cuda_gpu_executor.cc:980] successful NUMA node read from SysFS had negative value (-1), but there must be at least one NUMA node, so returning NUMA node zero\n",
      "2023-04-24 16:07:43.173351: I tensorflow/stream_executor/cuda/cuda_gpu_executor.cc:980] successful NUMA node read from SysFS had negative value (-1), but there must be at least one NUMA node, so returning NUMA node zero\n",
      "2023-04-24 16:07:43.173654: I tensorflow/stream_executor/cuda/cuda_gpu_executor.cc:980] successful NUMA node read from SysFS had negative value (-1), but there must be at least one NUMA node, so returning NUMA node zero\n",
      "2023-04-24 16:07:43.173904: I tensorflow/core/common_runtime/gpu/gpu_device.cc:1616] Created device /job:localhost/replica:0/task:0/device:GPU:0 with 4856 MB memory:  -> device: 0, name: NVIDIA GeForce GTX 1060 6GB, pci bus id: 0000:01:00.0, compute capability: 6.1\n"
     ]
    }
   ],
   "source": [
    "loaded_model = tf.keras.models.load_model('./generators/generator64x64_1500.h5')"
   ]
  },
  {
   "cell_type": "code",
   "execution_count": null,
   "metadata": {},
   "outputs": [],
   "source": [
    "# def generate_images():\n",
    "#     random_latent_vectors = tf.random.normal(shape=(5, 100))\n",
    "#     generated_images = loaded_model(random_latent_vectors)\n",
    "#     generated_images *= 255\n",
    "#     generated_images.numpy()\n",
    "#     for i in range(5):\n",
    "#         img = keras.preprocessing.image.array_to_img(generated_images[i])\n",
    "#         img.save('/home/deadpool/Honors-Project/Honors-Project/GAN_generated_images/final_images/generated_%d_from_saved_d1_1500e.png' % i)\n",
    "\n",
    "# generate_images()"
   ]
  },
  {
   "cell_type": "code",
   "execution_count": 4,
   "metadata": {},
   "outputs": [
    {
     "name": "stderr",
     "output_type": "stream",
     "text": [
      "2023-04-24 16:08:34.015313: I tensorflow/stream_executor/cuda/cuda_dnn.cc:384] Loaded cuDNN version 8100\n",
      "2023-04-24 16:08:34.900488: I tensorflow/core/platform/default/subprocess.cc:304] Start cannot spawn child process: No such file or directory\n",
      "2023-04-24 16:08:34.901339: I tensorflow/core/platform/default/subprocess.cc:304] Start cannot spawn child process: No such file or directory\n",
      "2023-04-24 16:08:34.901358: W tensorflow/stream_executor/gpu/asm_compiler.cc:80] Couldn't get ptxas version string: INTERNAL: Couldn't invoke ptxas --version\n",
      "2023-04-24 16:08:34.902345: I tensorflow/core/platform/default/subprocess.cc:304] Start cannot spawn child process: No such file or directory\n",
      "2023-04-24 16:08:34.902429: W tensorflow/stream_executor/gpu/redzone_allocator.cc:314] INTERNAL: Failed to launch ptxas\n",
      "Relying on driver to perform ptx compilation. \n",
      "Modify $PATH to customize ptxas location.\n",
      "This message will be only logged once.\n",
      "2023-04-24 16:08:36.320156: W tensorflow/core/common_runtime/bfc_allocator.cc:290] Allocator (GPU_0_bfc) ran out of memory trying to allocate 2.85GiB with freed_by_count=0. The caller indicates that this is not a failure, but this may mean that there could be performance gains if more memory were available.\n"
     ]
    }
   ],
   "source": [
    "num_samples = 1800\n",
    "def generate_images():\n",
    "    random_latent_vectors = tf.random.normal(shape=(num_samples, 100))\n",
    "    generated_images = loaded_model(random_latent_vectors)\n",
    "    generated_images *= 255\n",
    "    generated_images = generated_images.numpy()\n",
    "    for i in range(num_samples):\n",
    "        img = keras.preprocessing.image.array_to_img(generated_images[i])\n",
    "        img.save('./GAN_generated_images/test1/img%d.png' % i)\n",
    "    images = []\n",
    "    for i in range(1800):\n",
    "        img = generated_images[i].astype(np.uint8)\n",
    "        images.append(img)\n",
    "    return images\n",
    "\n",
    "images = generate_images()\n",
    "\n",
    "# fig, axes = plt.subplots(nrows=10, ncols=10, figsize=(8,8))\n",
    "# axes = axes.flatten()\n",
    "# for img, ax in zip(images, axes):\n",
    "#     ax.imshow(img, cmap='gray')\n",
    "#     ax.axis('off')\n",
    "# plt.tight_layout()\n",
    "# plt.savefig('./GAN_generated_images/Plot/256x256_figure.png')\n",
    "# plt.show()"
   ]
  },
  {
   "cell_type": "code",
   "execution_count": null,
   "metadata": {},
   "outputs": [],
   "source": [
    "# Generate images and plt and test performance (Speed)\n",
    "import time\n",
    "import numpy as np\n",
    "import tensorflow as tf\n",
    "\n",
    "num_samples = 10\n",
    "images = []\n",
    "\n",
    "def generate_images():\n",
    "    random_latent_vectors = tf.random.normal(shape=(num_samples, 128))\n",
    "    generated_images = loaded_model(random_latent_vectors)\n",
    "    generated_images *= 255\n",
    "    generated_images = generated_images.numpy()\n",
    "    for i in range(num_samples):\n",
    "        img = generated_images[i].astype(np.uint8)\n",
    "        images.append(img)\n",
    "    return images\n",
    "\n",
    "# Load the pre-trained DCGAN model\n",
    "loaded_model = tf.keras.models.load_model('./generators/generator64x64_d1_700.h5')\n",
    "\n",
    "# Time the generation of one image\n",
    "start_time = time.time()\n",
    "_ = generate_images()\n",
    "end_time = time.time()\n",
    "elapsed_time = end_time - start_time\n",
    "print(f\"Time taken to generate {num_samples} images: {elapsed_time:.5f} seconds\")\n",
    "\n",
    "\n",
    "fig, axes = plt.subplots(nrows=10, ncols=10, figsize=(8,8))\n",
    "axes = axes.flatten()\n",
    "for img, ax in zip(images, axes):\n",
    "    ax.imshow(img, cmap='gray')\n",
    "    ax.axis('off')\n",
    "plt.tight_layout()\n",
    "plt.show()"
   ]
  },
  {
   "cell_type": "code",
   "execution_count": null,
   "metadata": {},
   "outputs": [],
   "source": []
  }
 ],
 "metadata": {
  "kernelspec": {
   "display_name": "base",
   "language": "python",
   "name": "python3"
  },
  "language_info": {
   "codemirror_mode": {
    "name": "ipython",
    "version": 3
   },
   "file_extension": ".py",
   "mimetype": "text/x-python",
   "name": "python",
   "nbconvert_exporter": "python",
   "pygments_lexer": "ipython3",
   "version": "3.9.12"
  },
  "orig_nbformat": 4,
  "vscode": {
   "interpreter": {
    "hash": "41c742ca1c1364d748e64476510aaf5566fc212f58ad0c1f6a2e81f51363e134"
   }
  }
 },
 "nbformat": 4,
 "nbformat_minor": 2
}
