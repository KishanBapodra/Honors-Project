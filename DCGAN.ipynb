{
 "cells": [
  {
   "cell_type": "code",
   "execution_count": null,
   "metadata": {},
   "outputs": [],
   "source": [
    "import tensorflow as tf\n",
    "from tensorflow import keras\n",
    "import numpy as np\n",
    "import os\n",
    "import matplotlib.pyplot as plt"
   ]
  },
  {
   "cell_type": "code",
   "execution_count": null,
   "metadata": {},
   "outputs": [],
   "source": [
    "# Set random seed for reproducibility\n",
    "tf.random.set_seed(42)\n",
    "np.random.seed(42)\n",
    "\n",
    "# Define image parameters\n",
    "img_size = 64\n",
    "img_shape = (img_size, img_size, 1)\n",
    "batch_size = 64"
   ]
  },
  {
   "attachments": {},
   "cell_type": "markdown",
   "metadata": {},
   "source": [
    "## Generator"
   ]
  },
  {
   "cell_type": "code",
   "execution_count": null,
   "metadata": {},
   "outputs": [],
   "source": [
    "# # 64x64 \n",
    "def generator_model():\n",
    "    model = tf.keras.Sequential([\n",
    "        tf.keras.layers.Dense(8*8*128, input_shape=(128,), use_bias=False),\n",
    "        tf.keras.layers.BatchNormalization(),\n",
    "        tf.keras.layers.LeakyReLU(),\n",
    "        tf.keras.layers.Reshape((8, 8, 128)),\n",
    "        tf.keras.layers.Conv2DTranspose(128, (5,5), strides=(2,2), padding='same', use_bias=False),\n",
    "        tf.keras.layers.BatchNormalization(),\n",
    "        tf.keras.layers.LeakyReLU(),\n",
    "        tf.keras.layers.Conv2DTranspose(64, (5,5), strides=(2,2), padding='same', use_bias=False),\n",
    "        tf.keras.layers.BatchNormalization(),\n",
    "        tf.keras.layers.LeakyReLU(),\n",
    "        tf.keras.layers.Conv2DTranspose(1, (5,5), strides=(2,2), padding='same', use_bias=False, activation='tanh')\n",
    "    ])\n",
    "    return model\n",
    "generator = generator_model()\n",
    "generator.summary()"
   ]
  },
  {
   "cell_type": "code",
   "execution_count": null,
   "metadata": {},
   "outputs": [],
   "source": [
    "# def generator_model():\n",
    "#     model = tf.keras.Sequential([\n",
    "#         tf.keras.layers.Dense(16 * 16 * 64, input_shape=(128,), use_bias=False),\n",
    "#         tf.keras.layers.BatchNormalization(),\n",
    "#         tf.keras.layers.LeakyReLU(),\n",
    "#         tf.keras.layers.Reshape((16, 16, 64)),\n",
    "#         tf.keras.layers.Conv2DTranspose(512, (4,4), strides=(2,2), padding='same', use_bias=False),\n",
    "#         tf.keras.layers.BatchNormalization(),\n",
    "#         tf.keras.layers.LeakyReLU(),\n",
    "#         tf.keras.layers.Conv2DTranspose(256, (4,4), strides=(2,2), padding='same', use_bias=False),\n",
    "#         tf.keras.layers.BatchNormalization(),\n",
    "#         tf.keras.layers.LeakyReLU(),\n",
    "#         tf.keras.layers.Conv2DTranspose(128, (4,4), strides=(2,2), padding='same', use_bias=False),\n",
    "#         tf.keras.layers.BatchNormalization(),\n",
    "#         tf.keras.layers.LeakyReLU(),\n",
    "#         tf.keras.layers.Conv2DTranspose(64, (4,4), strides=(1,1), padding='same', use_bias=False),\n",
    "#         tf.keras.layers.BatchNormalization(),\n",
    "#         tf.keras.layers.LeakyReLU(),\n",
    "#         tf.keras.layers.Conv2DTranspose(1, (4,4), strides=(2,2), padding='same', use_bias=False, activation='tanh')\n",
    "#     ])\n",
    "#     return model\n"
   ]
  },
  {
   "attachments": {},
   "cell_type": "markdown",
   "metadata": {},
   "source": [
    "## Discriminator"
   ]
  },
  {
   "cell_type": "code",
   "execution_count": null,
   "metadata": {},
   "outputs": [],
   "source": [
    "# Final Discriminator architecture\n",
    "\n",
    "def discriminator_model():\n",
    "    model = tf.keras.Sequential([\n",
    "        tf.keras.layers.Conv2D(64, (5,5), strides=(2,2), padding='same', input_shape=img_shape),\n",
    "        tf.keras.layers.LeakyReLU(),\n",
    "        tf.keras.layers.Dropout(0.3),\n",
    "        tf.keras.layers.Conv2D(128, (5,5), strides=(2,2), padding='same'),\n",
    "        tf.keras.layers.LeakyReLU(),\n",
    "        tf.keras.layers.Dropout(0.3),\n",
    "        tf.keras.layers.Conv2D(256, (5,5), strides=(2,2), padding='same'),\n",
    "        tf.keras.layers.LeakyReLU(),\n",
    "        tf.keras.layers.Dropout(0.3),\n",
    "        tf.keras.layers.Conv2D(512, (5,5), strides=(2,2), padding='same'),\n",
    "        tf.keras.layers.LeakyReLU(),\n",
    "        tf.keras.layers.Dropout(0.3),\n",
    "        tf.keras.layers.Flatten(),\n",
    "        tf.keras.layers.Dense(1, activation='sigmoid')\n",
    "    ])\n",
    "    return model"
   ]
  },
  {
   "cell_type": "code",
   "execution_count": null,
   "metadata": {},
   "outputs": [],
   "source": [
    "generator = generator_model()\n",
    "generator.summary()"
   ]
  },
  {
   "cell_type": "code",
   "execution_count": null,
   "metadata": {},
   "outputs": [],
   "source": [
    "discriminator = discriminator_model()\n",
    "discriminator.summary()"
   ]
  },
  {
   "attachments": {},
   "cell_type": "markdown",
   "metadata": {},
   "source": [
    "## Loss Functions"
   ]
  },
  {
   "cell_type": "code",
   "execution_count": null,
   "metadata": {},
   "outputs": [],
   "source": [
    "cross_entropy = tf.keras.losses.BinaryCrossentropy(from_logits=False)\n",
    "generator_optimizer = tf.keras.optimizers.Adam(1e-4)\n",
    "discriminator_optimizer = tf.keras.optimizers.Adam(4e-4)"
   ]
  },
  {
   "attachments": {},
   "cell_type": "markdown",
   "metadata": {},
   "source": [
    "### Checkout points to check progress"
   ]
  },
  {
   "cell_type": "code",
   "execution_count": null,
   "metadata": {},
   "outputs": [],
   "source": [
    "checkpoint_dir = './training_checkpoints'\n",
    "checkpoint_prefix = os.path.join(checkpoint_dir, \"ckpt\")\n",
    "checkpoint = tf.train.Checkpoint(generator_optimizer=generator_optimizer,\n",
    "                                 discriminator_optimizer=discriminator_optimizer,\n",
    "                                 generator=generator,\n",
    "                                 discriminator=discriminator)"
   ]
  },
  {
   "attachments": {},
   "cell_type": "markdown",
   "metadata": {},
   "source": [
    "### Function to generate and save images"
   ]
  },
  {
   "cell_type": "code",
   "execution_count": null,
   "metadata": {},
   "outputs": [],
   "source": [
    "def generate_and_save_images(model, epoch, test_input):\n",
    "    predictions = model(test_input, training=False)\n",
    "    fig = plt.figure(figsize=(8, 8))\n",
    "    for i in range(predictions.shape[0]):\n",
    "        plt.subplot(8, 8, i+1)\n",
    "        plt.imshow(predictions[i, :, :, 0] * 127.5 + 127.5, cmap='gray')\n",
    "        plt.axis('off')\n",
    "    plt.show()"
   ]
  },
  {
   "cell_type": "code",
   "execution_count": null,
   "metadata": {},
   "outputs": [],
   "source": [
    "@tf.function\n",
    "def train_step(images):\n",
    "    noise = tf.random.normal([batch_size, 128])\n",
    "    with tf.GradientTape() as gen_tape, tf.GradientTape() as disc_tape:\n",
    "        generated_images = generator(noise, training=True)\n",
    "        real_output = discriminator(images, training=True)\n",
    "        fake_output = discriminator(generated_images, training=True)\n",
    "\n",
    "        gen_loss = cross_entropy(tf.ones_like(fake_output), fake_output)\n",
    "        disc_loss_real = cross_entropy(tf.ones_like(real_output), real_output)\n",
    "        disc_loss_fake = cross_entropy(tf.zeros_like(fake_output), fake_output)\n",
    "        disc_loss = disc_loss_real + disc_loss_fake\n",
    "\n",
    "    gradients_of_generator = gen_tape.gradient(gen_loss, generator.trainable_variables)\n",
    "    gradients_of_discriminator = disc_tape.gradient(disc_loss, discriminator.trainable_variables)\n",
    "\n",
    "    generator_optimizer.apply_gradients(zip(gradients_of_generator, generator.trainable_variables))\n",
    "    discriminator_optimizer.apply_gradients(zip(gradients_of_discriminator, discriminator.trainable_variables))\n",
    "\n",
    "    return gen_loss, disc_loss"
   ]
  },
  {
   "attachments": {},
   "cell_type": "markdown",
   "metadata": {},
   "source": [
    "### Load and preprocess data"
   ]
  },
  {
   "cell_type": "code",
   "execution_count": null,
   "metadata": {},
   "outputs": [],
   "source": [
    "# Load and preprocess the data\n",
    "def load_and_preprocess_image(path):\n",
    "    image = tf.io.read_file(path)\n",
    "    image = tf.image.decode_png(image, channels=1, dtype=tf.uint8)\n",
    "    image = tf.image.resize(image, [img_size, img_size])\n",
    "    image = tf.cast(image, tf.float32)  # Convert the data type to float32\n",
    "    image = (image - 127.5) / 127.5  # Normalize the images to [-1, 1]\n",
    "    return image\n",
    "\n",
    "list_ds = tf.data.Dataset.list_files('dataset_1/*.png')\n",
    "dataset = list_ds.map(load_and_preprocess_image, num_parallel_calls=tf.data.AUTOTUNE)\n",
    "dataset = dataset.batch(batch_size)"
   ]
  },
  {
   "attachments": {},
   "cell_type": "markdown",
   "metadata": {},
   "source": [
    "## Train Model"
   ]
  },
  {
   "cell_type": "code",
   "execution_count": null,
   "metadata": {},
   "outputs": [],
   "source": [
    "def train(dataset, epochs):\n",
    "    for epoch in range(epochs):\n",
    "        for batch in dataset:\n",
    "            gen_loss, disc_loss = train_step(batch)\n",
    "\n",
    "        # Save the model every 60 epochs\n",
    "        if (epoch + 1) % 10 == 0:\n",
    "            test_input = tf.random.normal([64, 128])\n",
    "            generate_and_save_images(generator, epoch+1, test_input)\n",
    "            checkpoint.save(file_prefix=checkpoint_prefix)\n",
    "        \n",
    "        print(f\"Epoch {epoch+1} - Generator Loss: {gen_loss.numpy()} - Discriminator Loss: {disc_loss.numpy()}\")\n",
    "        \n",
    "# Train the models\n",
    "train(dataset, epochs=50)\n"
   ]
  },
  {
   "cell_type": "code",
   "execution_count": null,
   "metadata": {},
   "outputs": [],
   "source": [
    "# def on_epoch_end():\n",
    "#     random_latent_vectors = tf.random.normal(shape=(5, 128))\n",
    "#     generated_images = generator(random_latent_vectors)\n",
    "#     generated_images *= 255\n",
    "#     generated_images.numpy()\n",
    "#     for i in range(5):\n",
    "#         img = keras.preprocessing.image.array_to_img(generated_images[i])\n",
    "#         img.save('/home/deadpool/Honors-Project/Honors-Project/GAN_generated_images/final_images/64x64_generated_d1_%d_900e.png' % i)\n",
    "\n",
    "# on_epoch_end()"
   ]
  },
  {
   "cell_type": "code",
   "execution_count": null,
   "metadata": {},
   "outputs": [],
   "source": [
    "# generator.compile()\n",
    "# generator.save('generator256x256_d1_1000.h5')"
   ]
  },
  {
   "cell_type": "code",
   "execution_count": null,
   "metadata": {},
   "outputs": [],
   "source": [
    "loaded_model = tf.keras.models.load_model('./generators/generator64x64_1500.h5')"
   ]
  },
  {
   "cell_type": "code",
   "execution_count": null,
   "metadata": {},
   "outputs": [],
   "source": [
    "# def generate_images():\n",
    "#     random_latent_vectors = tf.random.normal(shape=(5, 100))\n",
    "#     generated_images = loaded_model(random_latent_vectors)\n",
    "#     generated_images *= 255\n",
    "#     generated_images.numpy()\n",
    "#     for i in range(5):\n",
    "#         img = keras.preprocessing.image.array_to_img(generated_images[i])\n",
    "#         img.save('/home/deadpool/Honors-Project/Honors-Project/GAN_generated_images/final_images/generated_%d_from_saved_d1_1500e.png' % i)\n",
    "\n",
    "# generate_images()"
   ]
  },
  {
   "cell_type": "code",
   "execution_count": null,
   "metadata": {},
   "outputs": [],
   "source": [
    "# num_samples = 1800\n",
    "# def generate_images():\n",
    "#     random_latent_vectors = tf.random.normal(shape=(num_samples, 100))\n",
    "#     generated_images = loaded_model(random_latent_vectors)\n",
    "#     generated_images *= 255\n",
    "#     generated_images = generated_images.numpy()\n",
    "#     for i in range(num_samples):\n",
    "#         img = keras.preprocessing.image.array_to_img(generated_images[i])\n",
    "#         img.save('./GAN_generated_images/test1/img%d.png' % i)\n",
    "#     images = []\n",
    "#     for i in range(1800):\n",
    "#         img = generated_images[i].astype(np.uint8)\n",
    "#         images.append(img)\n",
    "#     return images\n",
    "\n",
    "# images = generate_images()\n",
    "\n",
    "# # fig, axes = plt.subplots(nrows=10, ncols=10, figsize=(8,8))\n",
    "# # axes = axes.flatten()\n",
    "# # for img, ax in zip(images, axes):\n",
    "# #     ax.imshow(img, cmap='gray')\n",
    "# #     ax.axis('off')\n",
    "# # plt.tight_layout()\n",
    "# # plt.savefig('./GAN_generated_images/Plot/256x256_figure.png')\n",
    "# # plt.show()"
   ]
  },
  {
   "cell_type": "code",
   "execution_count": null,
   "metadata": {},
   "outputs": [],
   "source": [
    "# Generate images and plt and test performance (Speed)\n",
    "import time\n",
    "import numpy as np\n",
    "import tensorflow as tf\n",
    "\n",
    "num_samples = 1800\n",
    "images = []\n",
    "\n",
    "def generate_images():\n",
    "    random_latent_vectors = tf.random.normal(shape=(num_samples, 100))\n",
    "    generated_images = loaded_model(random_latent_vectors)\n",
    "    generated_images *= 255\n",
    "    generated_images = generated_images.numpy()\n",
    "    for i in range(num_samples):\n",
    "        img = generated_images[i].astype(np.uint8)\n",
    "        images.append(img)\n",
    "    return images\n",
    "\n",
    "# Time the generation of one image\n",
    "start_time = time.time()\n",
    "_ = generate_images()\n",
    "end_time = time.time()\n",
    "elapsed_time = end_time - start_time\n",
    "print(f\"Time taken to generate {num_samples} images: {elapsed_time:.5f} seconds\")\n",
    "\n",
    "\n",
    "fig, axes = plt.subplots(nrows=10, ncols=10, figsize=(8,8))\n",
    "axes = axes.flatten()\n",
    "for img, ax in zip(images, axes):\n",
    "    ax.imshow(img, cmap='gray')\n",
    "    ax.axis('off')\n",
    "plt.tight_layout()\n",
    "plt.show()"
   ]
  },
  {
   "cell_type": "code",
   "execution_count": null,
   "metadata": {},
   "outputs": [],
   "source": []
  }
 ],
 "metadata": {
  "kernelspec": {
   "display_name": "base",
   "language": "python",
   "name": "python3"
  },
  "language_info": {
   "codemirror_mode": {
    "name": "ipython",
    "version": 3
   },
   "file_extension": ".py",
   "mimetype": "text/x-python",
   "name": "python",
   "nbconvert_exporter": "python",
   "pygments_lexer": "ipython3",
   "version": "3.9.12"
  },
  "orig_nbformat": 4,
  "vscode": {
   "interpreter": {
    "hash": "41c742ca1c1364d748e64476510aaf5566fc212f58ad0c1f6a2e81f51363e134"
   }
  }
 },
 "nbformat": 4,
 "nbformat_minor": 2
}
