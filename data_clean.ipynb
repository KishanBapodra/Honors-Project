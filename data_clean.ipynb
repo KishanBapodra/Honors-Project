{
 "cells": [
  {
   "cell_type": "code",
   "execution_count": 11,
   "metadata": {},
   "outputs": [],
   "source": [
    "import os\n",
    "\n",
    "directory = './dataset_2'\n",
    "\n",
    "for filename in os.listdir(directory):\n",
    "    if filename.endswith('.png'):\n",
    "        filepath = os.path.join(directory, filename)\n",
    "        if os.path.isfile(filepath) and os.path.getsize(filepath) < 305 * 1024:  # file size less than 305kb\n",
    "            os.remove(filepath)"
   ]
  },
  {
   "cell_type": "code",
   "execution_count": 13,
   "metadata": {},
   "outputs": [
    {
     "name": "stdout",
     "output_type": "stream",
     "text": [
      "Number of files in the folder: 2873\n"
     ]
    }
   ],
   "source": [
    "folder_path = './dataset_2/'\n",
    "num_files = len([f for f in os.listdir(folder_path) if os.path.isfile(os.path.join(folder_path, f))])\n",
    "\n",
    "print(\"Number of files in the folder:\", num_files)\n"
   ]
  },
  {
   "cell_type": "code",
   "execution_count": null,
   "metadata": {},
   "outputs": [],
   "source": [
    "import os\n",
    "import numpy as np\n",
    "from PIL import Image\n",
    "\n",
    "directory = './dataset_1/'\n",
    "\n",
    "for filename in os.listdir(directory):\n",
    "    if filename.endswith('.png'):\n",
    "        filepath = os.path.join(directory, filename)\n",
    "        img = Image.open(filepath)  # Load the image as grayscale\n",
    "        img_array = np.array(img)\n",
    "        black_pixels = np.count_nonzero(img_array < 10)  # Count the number of dark (very close to black) pixels\n",
    "        total_pixels = img_array.size  # Count the total number of pixels\n",
    "        if (black_pixels / total_pixels) > 0.5:  # If more than 60% of pixels are black\n",
    "            os.remove(filepath)\n",
    "            print(f\"Deleted {filename}\")"
   ]
  }
 ],
 "metadata": {
  "kernelspec": {
   "display_name": "base",
   "language": "python",
   "name": "python3"
  },
  "language_info": {
   "codemirror_mode": {
    "name": "ipython",
    "version": 3
   },
   "file_extension": ".py",
   "mimetype": "text/x-python",
   "name": "python",
   "nbconvert_exporter": "python",
   "pygments_lexer": "ipython3",
   "version": "3.9.12"
  },
  "orig_nbformat": 4
 },
 "nbformat": 4,
 "nbformat_minor": 2
}
